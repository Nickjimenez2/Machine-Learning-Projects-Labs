{
  "nbformat": 4,
  "nbformat_minor": 0,
  "metadata": {
    "colab": {
      "provenance": []
    },
    "kernelspec": {
      "name": "python3",
      "display_name": "Python 3"
    },
    "language_info": {
      "name": "python"
    }
  },
  "cells": [
    {
      "cell_type": "code",
      "execution_count": null,
      "metadata": {
        "colab": {
          "base_uri": "https://localhost:8080/"
        },
        "id": "vtf4cx1dDqhn",
        "outputId": "09f9ef80-8494-4f9a-afd5-43a8f41af391"
      },
      "outputs": [
        {
          "output_type": "stream",
          "name": "stdout",
          "text": [
            "Basic Augmentation Applied\n"
          ]
        }
      ],
      "source": [
        "import cv2\n",
        "import os\n",
        "import glob\n",
        "\n",
        "#function for renaming images\n",
        "def rename_images():\n",
        "    path = '/content/output_folder'  #setting the path for output folder\n",
        "    i = 0\n",
        "    for filename in os.listdir(path):\n",
        "        if filename.endswith('.jpg'):\n",
        "            os.rename(os.path.join(path, filename), os.path.join(path, f'image_{i}.jpg'))\n",
        "            i += 1\n",
        "\n",
        "#to apply Gaussian blur in each image and then saving it to a new directory\n",
        "def apply_gaussian_blur():\n",
        "    path = '/content/testing_data'  #for setting the path to of the folder\n",
        "    output_path = '/content/output_folder'  #for setting the output path for the blurred images\n",
        "    for filename in glob.glob(os.path.join(path, '*.jpg')):\n",
        "        img = cv2.imread(filename)\n",
        "        img_blur = cv2.GaussianBlur(img, (5, 5), 0)\n",
        "        output_filename = os.path.join(output_path, os.path.basename(filename))\n",
        "        cv2.imwrite(output_filename, img_blur)\n",
        "\n",
        "# to apply Laplacian in each image and saving it in a new directory\n",
        "def apply_laplacian():\n",
        "    path = '/content/testing_data'  #for setting the path to of the folder\n",
        "    output_path = '/content/output_folder'  #for setting the output path for the Laplacian images\n",
        "    for filename in glob.glob(os.path.join(path, '*.jpg')):\n",
        "        img = cv2.imread(filename)\n",
        "        img_laplacian = cv2.Laplacian(img, cv2.CV_64F)\n",
        "        output_filename = os.path.join(output_path, os.path.basename(filename))\n",
        "        cv2.imwrite(output_filename, img_laplacian)\n",
        "\n",
        "# Resize all images by changing their resolution to 400x600\n",
        "def resize_images():\n",
        "    path = '/content/testing_data'  #for setting the path to of the folder\n",
        "    output_path = '/content/output_folder'  #for setting the output path for the resized images\n",
        "    for filename in glob.glob(os.path.join(path, '*.jpg')):\n",
        "        img = cv2.imread(filename)\n",
        "        img_resized = cv2.resize(img, (400, 600))\n",
        "        output_filename = os.path.join(output_path, os.path.basename(filename))\n",
        "        cv2.imwrite(output_filename, img_resized)\n",
        "\n",
        "# Run the functions\n",
        "rename_images()\n",
        "apply_gaussian_blur()\n",
        "apply_laplacian()\n",
        "resize_images()\n",
        "\n",
        "print('Basic Augmentation Applied')"
      ]
    },
    {
      "cell_type": "code",
      "source": [],
      "metadata": {
        "id": "B8K0DpzoDr2b"
      },
      "execution_count": null,
      "outputs": []
    }
  ]
}